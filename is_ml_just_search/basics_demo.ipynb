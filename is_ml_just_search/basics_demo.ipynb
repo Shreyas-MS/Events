{
 "cells": [
  {
   "cell_type": "code",
   "execution_count": 1,
   "id": "e3a2a31c-0a2f-4756-86df-896e2f5ac7b5",
   "metadata": {},
   "outputs": [],
   "source": [
    "import torch\n",
    "import warnings\n",
    "\n",
    "device = 'cpu'\n",
    "torch.set_default_device(device)\n",
    "\n",
    "warnings.filterwarnings(\"ignore\")"
   ]
  },
  {
   "cell_type": "code",
   "execution_count": 2,
   "id": "66e48052-8377-4f83-8be0-e14de22fd391",
   "metadata": {},
   "outputs": [],
   "source": [
    "! rm -r lightning_logs/*"
   ]
  },
  {
   "cell_type": "code",
   "execution_count": 3,
   "id": "e1fae242-916f-446a-84ff-c9ed44ec5138",
   "metadata": {},
   "outputs": [],
   "source": [
    "from my_dataset import create_dataset"
   ]
  },
  {
   "cell_type": "code",
   "execution_count": 4,
   "id": "dc840a2c-d71d-4817-8409-3815e825830a",
   "metadata": {},
   "outputs": [],
   "source": [
    "from torch.utils.data import Dataset\n",
    "\n",
    "class SimpleData(Dataset):\n",
    "    def __init__(self, m):\n",
    "        self.m = m\n",
    "        self.X, self.y = create_dataset(m,True)\n",
    "\n",
    "    def __getitem__(self, idx):\n",
    "        return self.X[idx], self.y[idx]\n",
    "\n",
    "    def __len__(self):\n",
    "        return self.m"
   ]
  },
  {
   "cell_type": "code",
   "execution_count": 5,
   "id": "96862656-b189-4e4a-97fb-3bf102258a3d",
   "metadata": {},
   "outputs": [],
   "source": [
    "import lightning as L\n",
    "import torch\n",
    "\n",
    "class OneLayerNetwork(L.LightningModule):\n",
    "    def __init__(self):\n",
    "        super().__init__()\n",
    "        self.weights = torch.nn.Linear(3,1)\n",
    "        self.lr = 2e-3\n",
    "\n",
    "    def forward(self,X):\n",
    "        return self.weights(X)\n",
    "\n",
    "    def training_step(self,batch):\n",
    "        X,y = batch\n",
    "        y_pred = self.forward(X)\n",
    "        loss = torch.nn.functional.mse_loss(y_pred,y)\n",
    "        self.log(\"train_loss\", loss)\n",
    "        self.log(\"parameters - w_a\", self.weights.weight[0][0])\n",
    "        self.log(\"parameters - w_b\", self.weights.weight[0][1])\n",
    "        self.log(\"parameters - w_c\", self.weights.weight[0][2])\n",
    "        self.log(\"parameters - bias\", self.weights.bias[0])\n",
    "        return loss\n",
    "\n",
    "\n",
    "    def configure_optimizers(self):\n",
    "        optimizer = torch.optim.Adam(self.parameters(),lr=self.lr)\n",
    "        return optimizer"
   ]
  },
  {
   "cell_type": "code",
   "execution_count": 6,
   "id": "d0c378c7-0b5e-46fd-851f-82afb01336b9",
   "metadata": {},
   "outputs": [],
   "source": [
    "from torch.utils.data import DataLoader\n",
    "from sklearn.model_selection import train_test_split\n",
    "\n",
    "data = SimpleData(10000)\n",
    "\n",
    "train,test = train_test_split(data, test_size=0.15)\n",
    "\n",
    "train_loader = DataLoader(train)\n",
    "test_loader = DataLoader(test)\n",
    "\n",
    "model = OneLayerNetwork()\n"
   ]
  },
  {
   "cell_type": "code",
   "execution_count": 7,
   "id": "08f436b1-3c86-43f6-ac55-561708f94706",
   "metadata": {},
   "outputs": [
    {
     "name": "stderr",
     "output_type": "stream",
     "text": [
      "Using default `ModelCheckpoint`. Consider installing `litmodels` package to enable `LitModelCheckpoint` for automatic upload to the Lightning model registry.\n",
      "GPU available: True (mps), used: True\n",
      "TPU available: False, using: 0 TPU cores\n",
      "HPU available: False, using: 0 HPUs\n",
      "\n",
      "  | Name    | Type   | Params | Mode \n",
      "-------------------------------------------\n",
      "0 | weights | Linear | 4      | train\n",
      "-------------------------------------------\n",
      "4         Trainable params\n",
      "0         Non-trainable params\n",
      "4         Total params\n",
      "0.000     Total estimated model params size (MB)\n",
      "1         Modules in train mode\n",
      "0         Modules in eval mode\n"
     ]
    },
    {
     "name": "stdout",
     "output_type": "stream",
     "text": [
      "Epoch 49: 100%|█████████████████████| 100/100 [00:00<00:00, 218.49it/s, v_num=0]"
     ]
    },
    {
     "name": "stderr",
     "output_type": "stream",
     "text": [
      "`Trainer.fit` stopped: `max_epochs=50` reached.\n"
     ]
    },
    {
     "name": "stdout",
     "output_type": "stream",
     "text": [
      "Epoch 49: 100%|█████████████████████| 100/100 [00:00<00:00, 216.56it/s, v_num=0]\n"
     ]
    }
   ],
   "source": [
    "trainer = L.Trainer(limit_train_batches=100, max_epochs=50)\n",
    "\n",
    "trainer.fit(model=model, train_dataloaders=train_loader)"
   ]
  },
  {
   "cell_type": "code",
   "execution_count": 8,
   "id": "ab949686-f90d-4dcb-a895-0e9a78732e48",
   "metadata": {},
   "outputs": [
    {
     "data": {
      "text/plain": [
       "Parameter containing:\n",
       "tensor([[ 2.0000e+00, -3.9219e-08, -5.0000e-01]], requires_grad=True)"
      ]
     },
     "execution_count": 8,
     "metadata": {},
     "output_type": "execute_result"
    }
   ],
   "source": [
    "model.weights.weight"
   ]
  },
  {
   "cell_type": "code",
   "execution_count": 9,
   "id": "4c5cd926-79f4-4efe-a294-17119fe93c1f",
   "metadata": {},
   "outputs": [
    {
     "data": {
      "text/plain": [
       "Parameter containing:\n",
       "tensor([4.0345e-07], requires_grad=True)"
      ]
     },
     "execution_count": 9,
     "metadata": {},
     "output_type": "execute_result"
    }
   ],
   "source": [
    "model.weights.bias"
   ]
  },
  {
   "cell_type": "code",
   "execution_count": 10,
   "id": "f31e24ae-4545-45bf-994e-32076224b6c8",
   "metadata": {},
   "outputs": [
    {
     "data": {
      "text/plain": [
       "tensor([-249.4997], grad_fn=<ViewBackward0>)"
      ]
     },
     "execution_count": 10,
     "metadata": {},
     "output_type": "execute_result"
    }
   ],
   "source": [
    "model(torch.tensor([-124,451,3],dtype=torch.float32))"
   ]
  },
  {
   "cell_type": "code",
   "execution_count": null,
   "id": "4c591ea4-5016-45b4-842b-33f67520c1af",
   "metadata": {},
   "outputs": [],
   "source": []
  }
 ],
 "metadata": {
  "kernelspec": {
   "display_name": "Python 3 (ipykernel)",
   "language": "python",
   "name": "python3"
  },
  "language_info": {
   "codemirror_mode": {
    "name": "ipython",
    "version": 3
   },
   "file_extension": ".py",
   "mimetype": "text/x-python",
   "name": "python",
   "nbconvert_exporter": "python",
   "pygments_lexer": "ipython3",
   "version": "3.12.8"
  }
 },
 "nbformat": 4,
 "nbformat_minor": 5
}
